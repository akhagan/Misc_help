{
 "cells": [
  {
   "cell_type": "code",
   "execution_count": 19,
   "metadata": {},
   "outputs": [],
   "source": [
    "# Note to any one looking at this and coming from the R notes, python utilizes 0 based indexing, which means that things start with 0 instead of 1, like most other data science programming languages (and regular human, as opposed to mathematical, experience). Also, when dealing with ranges, the last number is left open, i.e. not included as part of the range. So if you want the first 10 things (I'm using 'first' loosely), you'd need the range(0, 10), which would give you the zeroeth through 9th indices, i.e. the first 10 elements. I assure you though, this approach will cost no programming time whatsoever, nor any issue at all on projects that require multiple programming languages.\n",
    "\n",
    "import string\n",
    "import numpy as np\n",
    "import pandas as pd\n",
    "\n",
    "letters_list = list(string.ascii_lowercase)\n",
    "letters_dict = {'a':1, 'b':2, 'c':3, 'd':4, 'e':5}\n",
    "letters = np.array(list(string.ascii_lowercase))\n"
   ]
  },
  {
   "cell_type": "code",
   "execution_count": 2,
   "metadata": {},
   "outputs": [
    {
     "data": {
      "text/plain": [
       "array(['m', 'j', 'c'],\n",
       "      dtype='<U1')"
      ]
     },
     "execution_count": 2,
     "metadata": {},
     "output_type": "execute_result"
    }
   ],
   "source": [
    "## ----vectorSlice, eval=TRUE----------------------------------------------\n",
    "letters[3:6]\n",
    "letters[[12,9,2]]"
   ]
  },
  {
   "cell_type": "code",
   "execution_count": 3,
   "metadata": {},
   "outputs": [],
   "source": [
    "## example ranges\n",
    "[i for i in (range(0,10))]  # or range(10)\n",
    "np.arange(10)\n",
    "\n",
    "myMatrix = np.arange(1,13).reshape(3,4)\n",
    "mydf = pd.DataFrame({'a': [1,5,2],\n",
    "                     'b': [3,8,1]}, index=['row1', 'row2', 'row3'])"
   ]
  },
  {
   "cell_type": "code",
   "execution_count": 4,
   "metadata": {},
   "outputs": [
    {
     "data": {
      "text/plain": [
       "array([3, 4])"
      ]
     },
     "execution_count": 4,
     "metadata": {},
     "output_type": "execute_result"
    }
   ],
   "source": [
    "## ----matrixSlice---------------------------------------------------------\n",
    "myMatrix[0, 2:4]"
   ]
  },
  {
   "cell_type": "code",
   "execution_count": 5,
   "metadata": {},
   "outputs": [
    {
     "data": {
      "text/plain": [
       "3"
      ]
     },
     "execution_count": 5,
     "metadata": {},
     "output_type": "execute_result"
    }
   ],
   "source": [
    "## ----dfindexlabel--------------------------------------------------------\n",
    "mydf.loc['row1', 'b']"
   ]
  },
  {
   "cell_type": "code",
   "execution_count": 6,
   "metadata": {},
   "outputs": [
    {
     "data": {
      "text/plain": [
       "3"
      ]
     },
     "execution_count": 6,
     "metadata": {},
     "output_type": "execute_result"
    }
   ],
   "source": [
    "## ----dfindexpos----------------------------------------------------------\n",
    "mydf.iloc[0, 1]"
   ]
  },
  {
   "cell_type": "code",
   "execution_count": 7,
   "metadata": {},
   "outputs": [
    {
     "name": "stderr",
     "output_type": "stream",
     "text": [
      "/Users/micl/anaconda3/lib/python3.6/site-packages/ipykernel_launcher.py:2: DeprecationWarning: \n",
      ".ix is deprecated. Please use\n",
      ".loc for label based indexing or\n",
      ".iloc for positional indexing\n",
      "\n",
      "See the documentation here:\n",
      "http://pandas.pydata.org/pandas-docs/stable/indexing.html#ix-indexer-is-deprecated\n",
      "  \n"
     ]
    },
    {
     "data": {
      "text/plain": [
       "3"
      ]
     },
     "execution_count": 7,
     "metadata": {},
     "output_type": "execute_result"
    }
   ],
   "source": [
    "## ----dfindexmix----------------------------------------------------------\n",
    "mydf.ix['row1', 1]  # deprecated due to reasons of 'user confusion', do by label for reproducibility anyway"
   ]
  },
  {
   "cell_type": "code",
   "execution_count": 8,
   "metadata": {},
   "outputs": [
    {
     "data": {
      "text/plain": [
       "row1    3\n",
       "row2    8\n",
       "row3    1\n",
       "Name: b, dtype: int64"
      ]
     },
     "execution_count": 8,
     "metadata": {},
     "output_type": "execute_result"
    }
   ],
   "source": [
    "## ----dfindexslice--------------------------------------------------------\n",
    "mydf.loc['row1',:]\n",
    "mydf.loc[:,'b']"
   ]
  },
  {
   "cell_type": "code",
   "execution_count": 9,
   "metadata": {},
   "outputs": [
    {
     "data": {
      "text/html": [
       "<div>\n",
       "<style scoped>\n",
       "    .dataframe tbody tr th:only-of-type {\n",
       "        vertical-align: middle;\n",
       "    }\n",
       "\n",
       "    .dataframe tbody tr th {\n",
       "        vertical-align: top;\n",
       "    }\n",
       "\n",
       "    .dataframe thead th {\n",
       "        text-align: right;\n",
       "    }\n",
       "</style>\n",
       "<table border=\"1\" class=\"dataframe\">\n",
       "  <thead>\n",
       "    <tr style=\"text-align: right;\">\n",
       "      <th></th>\n",
       "      <th>a</th>\n",
       "      <th>b</th>\n",
       "    </tr>\n",
       "  </thead>\n",
       "  <tbody>\n",
       "    <tr>\n",
       "      <th>row1</th>\n",
       "      <td>1</td>\n",
       "      <td>3</td>\n",
       "    </tr>\n",
       "    <tr>\n",
       "      <th>row3</th>\n",
       "      <td>2</td>\n",
       "      <td>1</td>\n",
       "    </tr>\n",
       "  </tbody>\n",
       "</table>\n",
       "</div>"
      ],
      "text/plain": [
       "      a  b\n",
       "row1  1  3\n",
       "row3  2  1"
      ]
     },
     "execution_count": 9,
     "metadata": {},
     "output_type": "execute_result"
    }
   ],
   "source": [
    "## ----dfindexnoncont------------------------------------------------------\n",
    "mydf.iloc[[0,2],:]"
   ]
  },
  {
   "cell_type": "code",
   "execution_count": 10,
   "metadata": {},
   "outputs": [
    {
     "data": {
      "text/html": [
       "<div>\n",
       "<style scoped>\n",
       "    .dataframe tbody tr th:only-of-type {\n",
       "        vertical-align: middle;\n",
       "    }\n",
       "\n",
       "    .dataframe tbody tr th {\n",
       "        vertical-align: top;\n",
       "    }\n",
       "\n",
       "    .dataframe thead th {\n",
       "        text-align: right;\n",
       "    }\n",
       "</style>\n",
       "<table border=\"1\" class=\"dataframe\">\n",
       "  <thead>\n",
       "    <tr style=\"text-align: right;\">\n",
       "      <th></th>\n",
       "      <th>a</th>\n",
       "      <th>b</th>\n",
       "    </tr>\n",
       "  </thead>\n",
       "  <tbody>\n",
       "    <tr>\n",
       "      <th>row2</th>\n",
       "      <td>5</td>\n",
       "      <td>8</td>\n",
       "    </tr>\n",
       "    <tr>\n",
       "      <th>row3</th>\n",
       "      <td>2</td>\n",
       "      <td>1</td>\n",
       "    </tr>\n",
       "  </tbody>\n",
       "</table>\n",
       "</div>"
      ],
      "text/plain": [
       "      a  b\n",
       "row2  5  8\n",
       "row3  2  1"
      ]
     },
     "execution_count": 10,
     "metadata": {},
     "output_type": "execute_result"
    }
   ],
   "source": [
    "## ----dfindexbool---------------------------------------------------------\n",
    "mydf[lambda df: df.a >= 2]"
   ]
  },
  {
   "cell_type": "code",
   "execution_count": 11,
   "metadata": {},
   "outputs": [
    {
     "data": {
      "text/plain": [
       "['b', 'c', 'd']"
      ]
     },
     "execution_count": 11,
     "metadata": {},
     "output_type": "execute_result"
    }
   ],
   "source": [
    "## ----dflistslice---------------------------------------------------------\n",
    "## Note, pandas dataFrames are not lists, but you could get something similar by converting it to a dictionary via mydf.to_dict().  These examples will just regard a list/dict where noted.\n",
    "#my_list_or_df[2:4]\n",
    "letters_list[1:4]"
   ]
  },
  {
   "cell_type": "code",
   "execution_count": 12,
   "metadata": {},
   "outputs": [
    {
     "data": {
      "text/plain": [
       "row1    1\n",
       "row2    5\n",
       "row3    2\n",
       "Name: a, dtype: int64"
      ]
     },
     "execution_count": 12,
     "metadata": {},
     "output_type": "execute_result"
    }
   ],
   "source": [
    "## ----dflistextract-------------------------------------------------------\n",
    "letters_dict['d']   # dict\n",
    "mydf['a']           # dataframe"
   ]
  },
  {
   "cell_type": "code",
   "execution_count": 13,
   "metadata": {},
   "outputs": [
    {
     "data": {
      "text/plain": [
       "1"
      ]
     },
     "execution_count": 13,
     "metadata": {},
     "output_type": "execute_result"
    }
   ],
   "source": [
    "## ----dflistextract2------------------------------------------------------\n",
    "mydf.a\n",
    "letters_dict.pop('a')   # pop by name"
   ]
  },
  {
   "cell_type": "code",
   "execution_count": 16,
   "metadata": {},
   "outputs": [],
   "source": [
    "## ------------------------------------------------------------------------\n",
    "mymatrix = np.matrix(np.random.normal(size=100)).reshape(10, 10)\n",
    "mydf = pd.read_csv('../data/cars.csv')\n",
    "my_matdf_list = {'thismat': mymatrix, 'thisdf': mydf}  # all have to be named"
   ]
  },
  {
   "cell_type": "code",
   "execution_count": 17,
   "metadata": {},
   "outputs": [
    {
     "data": {
      "text/plain": [
       "0.46299876748396412"
      ]
     },
     "execution_count": 17,
     "metadata": {},
     "output_type": "execute_result"
    }
   ],
   "source": [
    "## ---- echo=F-------------------------------------------------------------\n",
    "mymatrix[0:5, ]\n",
    "mymatrix[:,0:5]\n",
    "mymatrix[0,1]"
   ]
  },
  {
   "cell_type": "code",
   "execution_count": 18,
   "metadata": {},
   "outputs": [
    {
     "data": {
      "text/plain": [
       "0     160.0\n",
       "1     160.0\n",
       "2     108.0\n",
       "3     258.0\n",
       "4     360.0\n",
       "5     225.0\n",
       "6     360.0\n",
       "7     146.7\n",
       "8     140.8\n",
       "9     167.6\n",
       "10    167.6\n",
       "11    275.8\n",
       "12    275.8\n",
       "13    275.8\n",
       "14    472.0\n",
       "15    460.0\n",
       "16    440.0\n",
       "17     78.7\n",
       "18     75.7\n",
       "19     71.1\n",
       "20    120.1\n",
       "21    318.0\n",
       "22    304.0\n",
       "23    350.0\n",
       "24    400.0\n",
       "25     79.0\n",
       "26    120.3\n",
       "27     95.1\n",
       "28    351.0\n",
       "29    145.0\n",
       "30    301.0\n",
       "31    121.0\n",
       "Name: disp, dtype: float64"
      ]
     },
     "execution_count": 18,
     "metadata": {},
     "output_type": "execute_result"
    }
   ],
   "source": [
    "## ---- echo=F-------------------------------------------------------------\n",
    "mydf.disp\n",
    "mydf.iloc[:,3]\n",
    "mydf['disp']"
   ]
  },
  {
   "cell_type": "code",
   "execution_count": null,
   "metadata": {},
   "outputs": [],
   "source": [
    "## ---- echo=F-------------------------------------------------------------\n",
    "my_matdf_list.pop('thisdf')"
   ]
  }
 ],
 "metadata": {
  "kernelspec": {
   "display_name": "Python 3",
   "language": "python",
   "name": "python3"
  },
  "language_info": {
   "codemirror_mode": {
    "name": "ipython",
    "version": 3
   },
   "file_extension": ".py",
   "mimetype": "text/x-python",
   "name": "python",
   "nbconvert_exporter": "python",
   "pygments_lexer": "ipython3",
   "version": "3.6.3"
  }
 },
 "nbformat": 4,
 "nbformat_minor": 2
}
