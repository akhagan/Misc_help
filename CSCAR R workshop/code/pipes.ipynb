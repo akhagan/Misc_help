{
 "cells": [
  {
   "cell_type": "markdown",
   "metadata": {},
   "source": [
    "I'm so accustomed to piping in R it'd be nice to carry it over into Python. Pandas has some (very recent) functionality, but the documentation is frustrating, and it's not as straightforward.  Then again, the general .method approach in Python/pandas is useful in its own right. Another option is the dfply package, which is basically trying to duplicate R's dplyr, but it doesn't look like it's in very widespread  usage at this point.  I will just stick to the pandas approach."
   ]
  },
  {
   "cell_type": "code",
   "execution_count": 2,
   "metadata": {},
   "outputs": [],
   "source": [
    "import pandas as pd"
   ]
  },
  {
   "cell_type": "code",
   "execution_count": 8,
   "metadata": {},
   "outputs": [],
   "source": [
    "## ----pipes---------------------------------------------------------------\n",
    "# R\n",
    "# mydf %>% \n",
    "#   select(var1, var2) %>% \n",
    "#   filter(var1 == 'Yes') %>% \n",
    "#   summary()\n"
   ]
  },
  {
   "cell_type": "code",
   "execution_count": 7,
   "metadata": {},
   "outputs": [],
   "source": [
    "# (data\n",
    "#  .groupby('var')\n",
    "#  .sum() \n",
    "#  .mean()\n",
    "#  .var2\n",
    "# )"
   ]
  }
 ],
 "metadata": {
  "kernelspec": {
   "display_name": "Python 3",
   "language": "python",
   "name": "python3"
  },
  "language_info": {
   "codemirror_mode": {
    "name": "ipython",
    "version": 3
   },
   "file_extension": ".py",
   "mimetype": "text/x-python",
   "name": "python",
   "nbconvert_exporter": "python",
   "pygments_lexer": "ipython3",
   "version": "3.6.3"
  }
 },
 "nbformat": 4,
 "nbformat_minor": 2
}
