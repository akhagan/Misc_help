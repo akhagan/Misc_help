{
 "cells": [
  {
   "cell_type": "code",
   "execution_count": 4,
   "metadata": {},
   "outputs": [
    {
     "data": {
      "text/plain": [
       "dtype('int32')"
      ]
     },
     "execution_count": 4,
     "metadata": {},
     "output_type": "execute_result"
    }
   ],
   "source": [
    "import numpy as np\n",
    "import pandas as pd\n",
    "\n",
    "\n",
    "x = np.asmatrix([1, 3, 2, 5, 4])\n",
    "x.dtype"
   ]
  },
  {
   "cell_type": "code",
   "execution_count": 2,
   "metadata": {},
   "outputs": [
    {
     "data": {
      "text/plain": [
       "array(['... Of Your Fake Dimension', 'Ephemeron', 'Dryswch', 'Isotasy',\n",
       "       'Memory'],\n",
       "      dtype='<U26')"
      ]
     },
     "execution_count": 2,
     "metadata": {},
     "output_type": "execute_result"
    }
   ],
   "source": [
    "# character vector as list\n",
    "x = ['... Of Your Fake Dimension', 'Ephemeron', 'Dryswch', 'Isotasy', 'Memory']\n",
    "x\n",
    "# as np object\n",
    "x = np.asarray(['... Of Your Fake Dimension', 'Ephemeron', 'Dryswch', 'Isotasy', 'Memory'])\n",
    "x"
   ]
  },
  {
   "cell_type": "code",
   "execution_count": 3,
   "metadata": {},
   "outputs": [
    {
     "data": {
      "text/plain": [
       "30"
      ]
     },
     "execution_count": 3,
     "metadata": {},
     "output_type": "execute_result"
    }
   ],
   "source": [
    "## ----factors -----------------------------------------\n",
    "x_string = np.repeat(['a', 'b', 'c'], 10)\n",
    "x_factor = pd.Categorical(x_string)\n",
    "x_factor\n",
    "x_factor.dtype\n",
    "np.sum(x_factor)             # not what you want\n",
    "x_num = x_factor.codes\n",
    "np.sum(x_num)                # can use as numeric "
   ]
  },
  {
   "cell_type": "code",
   "execution_count": 20,
   "metadata": {},
   "outputs": [
    {
     "data": {
      "text/plain": [
       "array([False,  True, False,  True, False, False], dtype=bool)"
      ]
     },
     "execution_count": 20,
     "metadata": {},
     "output_type": "execute_result"
    }
   ],
   "source": [
    "## ----logical/boolean-------------------------------------------------------------\n",
    "my_logic = np.array([True, False, True, False, True, True], dtype=bool)\n",
    "type(my_logic)"
   ]
  },
  {
   "cell_type": "code",
   "execution_count": null,
   "metadata": {},
   "outputs": [],
   "source": []
  },
  {
   "cell_type": "code",
   "execution_count": 21,
   "metadata": {},
   "outputs": [
    {
     "data": {
      "text/plain": [
       "0.66666666666666663"
      ]
     },
     "execution_count": 21,
     "metadata": {},
     "output_type": "execute_result"
    }
   ],
   "source": [
    "## ----logical_demo--------------------------------------------------------\n",
    "np.logical_not(my_logic)\n",
    "np.mean(my_logic)"
   ]
  },
  {
   "cell_type": "code",
   "execution_count": 28,
   "metadata": {},
   "outputs": [
    {
     "data": {
      "text/plain": [
       "array([-1.03415582, -0.44148099,  1.71108471, -0.05178067, -0.4060903 ])"
      ]
     },
     "execution_count": 28,
     "metadata": {},
     "output_type": "execute_result"
    }
   ],
   "source": [
    "## ----int_num-------------------------------------------------------------\n",
    "[np.arange(3)]\n",
    "# type([np.arange(3)])\n",
    "\n",
    "np.random.randn(5)"
   ]
  },
  {
   "cell_type": "code",
   "execution_count": 4,
   "metadata": {},
   "outputs": [
    {
     "data": {
      "text/plain": [
       "array([[ 1,  2,  3,  4],\n",
       "       [ 5,  6,  7,  8],\n",
       "       [ 9, 10, 11, 12]])"
      ]
     },
     "execution_count": 4,
     "metadata": {},
     "output_type": "execute_result"
    }
   ],
   "source": [
    "## ----createMatrix--------------------------------------------------------\n",
    "# vectors; note that the sequence is open on the right, i.e. will not include the stop number\n",
    "x = np.arange(1,5)\n",
    "y = np.arange(5,9)\n",
    "z = np.arange(9,13)\n",
    "\n",
    "np.vstack((x,y,z))   \n",
    "np.hstack((x,y,z))\n",
    "\n",
    "# or reshape to 2d matrix and use concatenate\n",
    "x = np.arange(1,5).reshape(1,4)\n",
    "y = np.arange(5,9).reshape(1,4)\n",
    "z = np.arange(9,13).reshape(1,4)\n",
    "\n",
    "np.concatenate((x,y,z), axis=0)"
   ]
  },
  {
   "cell_type": "code",
   "execution_count": 5,
   "metadata": {},
   "outputs": [
    {
     "data": {
      "text/plain": [
       "[1, 'apple', [3, 'cat']]"
      ]
     },
     "execution_count": 5,
     "metadata": {},
     "output_type": "execute_result"
    }
   ],
   "source": [
    "## ----list----------------------------------------------------------------\n",
    "x = [1, 'apple', [3, 'cat']]\n",
    "x"
   ]
  },
  {
   "cell_type": "code",
   "execution_count": 6,
   "metadata": {},
   "outputs": [
    {
     "name": "stdout",
     "output_type": "stream",
     "text": [
      "<class 'int'>\n",
      "<class 'str'>\n",
      "<class 'list'>\n"
     ]
    }
   ],
   "source": [
    "## ----listloop------------------------------------------------------------\n",
    "for elem in x: print(type(elem))"
   ]
  },
  {
   "cell_type": "code",
   "execution_count": 7,
   "metadata": {},
   "outputs": [
    {
     "data": {
      "text/plain": [
       "-1"
      ]
     },
     "execution_count": 7,
     "metadata": {},
     "output_type": "execute_result"
    }
   ],
   "source": [
    "## ----namedlist-----------------------------------------------------------\n",
    "x = {'a':25, 'b':-1, 'c':0}\n",
    "x['b']"
   ]
  },
  {
   "cell_type": "code",
   "execution_count": 8,
   "metadata": {},
   "outputs": [],
   "source": [
    "## ----createdf-------------------------------------------------\n",
    "mydf = pd.DataFrame({'a': [1,5,2],\n",
    "                     'b': [3,8,1]})"
   ]
  },
  {
   "cell_type": "code",
   "execution_count": 9,
   "metadata": {},
   "outputs": [],
   "source": [
    "## ----dfrownames-----------------------------------------------\n",
    "mydf.index  = {'row' + str(x) for x in np.arange(1,4)}"
   ]
  },
  {
   "cell_type": "code",
   "execution_count": 10,
   "metadata": {},
   "outputs": [],
   "source": [
    "## ----dsex1, echo=F-------------------------------------------------------\n",
    "mydf = pd.DataFrame({'A':[1,2,3], 'B':['a','b','c']})"
   ]
  },
  {
   "cell_type": "code",
   "execution_count": 11,
   "metadata": {},
   "outputs": [],
   "source": [
    "## ----dsex2, echo=F-------------------------------------------------------\n",
    "mylist = [['a','b'], [1,2,3], mydf]"
   ]
  }
 ],
 "metadata": {
  "kernelspec": {
   "display_name": "Python 3",
   "language": "python",
   "name": "python3"
  },
  "language_info": {
   "codemirror_mode": {
    "name": "ipython",
    "version": 3
   },
   "file_extension": ".py",
   "mimetype": "text/x-python",
   "name": "python",
   "nbconvert_exporter": "python",
   "pygments_lexer": "ipython3",
   "version": "3.6.3"
  }
 },
 "nbformat": 4,
 "nbformat_minor": 2
}
